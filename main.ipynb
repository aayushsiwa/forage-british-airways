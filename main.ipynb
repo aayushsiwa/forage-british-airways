{
 "cells": [
  {
   "cell_type": "code",
   "execution_count": 1,
   "metadata": {},
   "outputs": [],
   "source": [
    "import requests\n",
    "from bs4 import BeautifulSoup\n",
    "\n",
    "# Headers for the HTTP request\n",
    "headers = {\n",
    "    \"User-Agent\": \"Mozilla/5.0 (Macintosh; Intel Mac OS X 10.15; rv:123.0) Gecko/20100101 Firefox/123.0\",\n",
    "    \"Accept\": \"text/html,application/xhtml+xml,application/xml;q=0.9,image/avif,image/webp,*/*;q=0.8\",\n",
    "    \"Accept-Language\": \"en-US,en;q=0.5\",\n",
    "    \"Referer\": \"https://www.airlinequality.com/airline-reviews/british-airways/\",\n",
    "    \"DNT\": \"1\",\n",
    "    \"Connection\": \"keep-alive\",\n",
    "    \"Upgrade-Insecure-Requests\": \"1\",\n",
    "}\n",
    "\n",
    "# URL and page settings\n",
    "url = \"https://www.airlinequality.com/airline-reviews/british-airways/page/{}/?sortby=post_date%3ADesc&pagesize=4000\"\n",
    "# url2 = \"https://www.airlinequality.com/seat-reviews/british-airways/page/{}/?sortby=post_date%3ADesc&pagesize=4000\"\n",
    "# url3 = \"https://www.airlinequality.com/lounge-reviews/british-airways/page/{}/?sortby=post_date%3ADesc&pagesize=4000\"\n",
    "\n",
    "page = 1\n",
    "\n",
    "# Fetch the webpage content\n",
    "response = requests.get(url.format(page), headers=headers)\n",
    "# response2 = requests.get(url2.format(page), headers=headers)\n",
    "# response3 = requests.get(url3.format(page), headers=headers)\n",
    "\n",
    "soup = BeautifulSoup(response.text, \"html.parser\")\n",
    "# soup2 = BeautifulSoup(response2.text, \"html.parser\")\n",
    "# soup3 = BeautifulSoup(response3.text, \"html.parser\")\n",
    "\n",
    "airline_reviews = soup.find_all(\"article\", attrs={\"itemprop\": \"review\"})\n",
    "# seat_reviews = soup2.find_all(\"article\", attrs={\"itemprop\": \"review\"})\n",
    "# lounge_reviews = soup3.find_all(\"article\", attrs={\"itemprop\": \"review\"})\n"
   ]
  },
  {
   "cell_type": "code",
   "execution_count": 62,
   "metadata": {},
   "outputs": [],
   "source": [
    "# Helper function to extract star ratings\n",
    "def extract_ratings(review, class_name):\n",
    "    ratings = []\n",
    "    table = review.table\n",
    "    if table:\n",
    "        td_elements = table.find_all(\"td\", class_=class_name)\n",
    "        if td_elements:\n",
    "            for td in td_elements:\n",
    "                next_sibling = td.find_next_sibling()\n",
    "                if next_sibling:\n",
    "                    filled_stars = next_sibling.find_all('span', class_='star fill')\n",
    "                    if filled_stars:\n",
    "                        last_filled_star = filled_stars[-1].get_text(strip=True)\n",
    "                        ratings.append(int(last_filled_star))\n",
    "                    else:\n",
    "                        ratings.append('NaN')\n",
    "                else:\n",
    "                    ratings.append('NaN')\n",
    "        else:\n",
    "            ratings.append('NaN')\n",
    "    else:\n",
    "        ratings.append('NaN')\n",
    "    return ratings"
   ]
  },
  {
   "cell_type": "code",
   "execution_count": 63,
   "metadata": {},
   "outputs": [],
   "source": [
    "# Define the review categories\n",
    "categories = [\n",
    "    \"seat_comfort\",\n",
    "    \"ground_service\",\n",
    "    \"value_for_money\",\n",
    "    \"cabin_staff_service\",\n",
    "    \"food_and_beverages\",\n",
    "    \"inflight_entertainment\",\n",
    "    \"wifi_and_connectivity\",\n",
    "    \"recommended\"\n",
    "]\n",
    "\n",
    "airline_ratings_dict = {category: [] for category in categories}"
   ]
  },
  {
   "cell_type": "code",
   "execution_count": 64,
   "metadata": {},
   "outputs": [],
   "source": [
    "# Extract ratings for each category\n",
    "for review in airline_reviews:\n",
    "    for category in categories:\n",
    "        ratings = extract_ratings(review, category)\n",
    "        airline_ratings_dict[category].extend(ratings)"
   ]
  },
  {
   "cell_type": "code",
   "execution_count": 65,
   "metadata": {},
   "outputs": [],
   "source": [
    "# Process 'recommended' category separately as it does not follow the star rating pattern\n",
    "recommended = []\n",
    "for review in airline_reviews:\n",
    "    table = review.table\n",
    "    if table:\n",
    "        td_elements = table.find_all(\"td\", class_=\"recommended\")\n",
    "        for td in td_elements:\n",
    "            next_sibling = td.find_next_sibling()\n",
    "            if next_sibling:\n",
    "                review_value = next_sibling.get_text(strip=True).lower()\n",
    "                if review_value == \"no\":\n",
    "                    recommended.append(0)\n",
    "                else:\n",
    "                    recommended.append(1)\n",
    "    else:\n",
    "        recommended.append('NaN')\n",
    "airline_ratings_dict[\"recommended\"] = recommended"
   ]
  },
  {
   "cell_type": "code",
   "execution_count": 66,
   "metadata": {},
   "outputs": [],
   "source": [
    "aircraft=[]\n",
    "for review in airline_reviews:\n",
    "    table = review.table\n",
    "    if table:\n",
    "        td_elements = table.find_all(\"td\", class_=\"aircraft\")\n",
    "        # print(td_elements)\n",
    "        if td_elements:\n",
    "            for td in td_elements:\n",
    "                next_sibling = td.find_next_sibling()\n",
    "                # print(next_sibling)\n",
    "                review_value = next_sibling.get_text(strip=True).lower().replace(\" \",'')\n",
    "                aircraft.append(review_value)\n",
    "        else:\n",
    "            aircraft.append('NaN')\n",
    "#                 if next_sibling:\n",
    "#                     review_value = next_sibling.get_text(strip=True).lower().replace(\" \",'')\n",
    "#                     aircraft.append(review_value)\n",
    "#                 else:\n",
    "#                     aircraft.append(\"None\")\n",
    "#         else:\n",
    "#             aircraft.append(\"None\")\n",
    "#     else:\n",
    "#         aircraft.append(\"None\")\n",
    "airline_ratings_dict[\"aircraft\"]=aircraft"
   ]
  },
  {
   "cell_type": "code",
   "execution_count": 99,
   "metadata": {},
   "outputs": [],
   "source": [
    "reviewBody=[]\n",
    "for review in airline_reviews:\n",
    "    r=review.find_all(\"div\",attrs={'itemprop':'reviewBody'})\n",
    "    for i in r:\n",
    "        reviewBody.append(i.text.replace(\"✅ Trip Verified\",\"\").replace(\"Not Verified\",\"\").replace(\"|\" ,\"\"))\n",
    "# len(reviewBody)\n",
    "airline_ratings_dict[\"reviewBody\"]=reviewBody"
   ]
  },
  {
   "cell_type": "code",
   "execution_count": 93,
   "metadata": {},
   "outputs": [],
   "source": [
    "reviewHead=[]\n",
    "for review in airline_reviews:\n",
    "    r=review.find_all(\"div\",attrs={'class':'body'})\n",
    "    for i in r:\n",
    "        reviewHead.append(i.h2.text)\n",
    "# len(reviewHead)\n",
    "airline_ratings_dict[\"reviewHead\"]=reviewHead"
   ]
  },
  {
   "cell_type": "code",
   "execution_count": 100,
   "metadata": {},
   "outputs": [
    {
     "name": "stdout",
     "output_type": "stream",
     "text": [
      "seat_comfort: 3808\n",
      "ground_service: 3808\n",
      "value_for_money: 3808\n",
      "cabin_staff_service: 3808\n",
      "food_and_beverages: 3808\n",
      "inflight_entertainment: 3808\n",
      "wifi_and_connectivity: 3808\n",
      "recommended: 3808\n",
      "aircraft: 3808\n",
      "reviewHead: 3808\n",
      "reviewBody: 3808\n"
     ]
    }
   ],
   "source": [
    "# Print the collected ratings\n",
    "for category, ratings in airline_ratings_dict.items():\n",
    "    print(f'{category}: {len(ratings)}')"
   ]
  },
  {
   "cell_type": "code",
   "execution_count": 101,
   "metadata": {},
   "outputs": [],
   "source": [
    "import pandas as pd\n",
    "\n",
    "df=pd.DataFrame(airline_ratings_dict)\n",
    "\n",
    "df.to_csv(\"./data/airline_reviews.csv\",index=0)"
   ]
  },
  {
   "cell_type": "markdown",
   "metadata": {},
   "source": [
    "all ratings are out of 5\n",
    "<br>\n",
    "recommended ratings are 0 for not recommended and 1 for recommended"
   ]
  },
  {
   "cell_type": "code",
   "execution_count": 102,
   "metadata": {},
   "outputs": [
    {
     "data": {
      "text/html": [
       "<div>\n",
       "<style scoped>\n",
       "    .dataframe tbody tr th:only-of-type {\n",
       "        vertical-align: middle;\n",
       "    }\n",
       "\n",
       "    .dataframe tbody tr th {\n",
       "        vertical-align: top;\n",
       "    }\n",
       "\n",
       "    .dataframe thead th {\n",
       "        text-align: right;\n",
       "    }\n",
       "</style>\n",
       "<table border=\"1\" class=\"dataframe\">\n",
       "  <thead>\n",
       "    <tr style=\"text-align: right;\">\n",
       "      <th></th>\n",
       "      <th>seat_comfort</th>\n",
       "      <th>ground_service</th>\n",
       "      <th>value_for_money</th>\n",
       "      <th>cabin_staff_service</th>\n",
       "      <th>food_and_beverages</th>\n",
       "      <th>inflight_entertainment</th>\n",
       "      <th>wifi_and_connectivity</th>\n",
       "      <th>recommended</th>\n",
       "      <th>aircraft</th>\n",
       "      <th>reviewHead</th>\n",
       "      <th>reviewBody</th>\n",
       "    </tr>\n",
       "  </thead>\n",
       "  <tbody>\n",
       "    <tr>\n",
       "      <th>0</th>\n",
       "      <td>1</td>\n",
       "      <td>1</td>\n",
       "      <td>2</td>\n",
       "      <td>NaN</td>\n",
       "      <td>NaN</td>\n",
       "      <td>NaN</td>\n",
       "      <td>NaN</td>\n",
       "      <td>0</td>\n",
       "      <td>NaN</td>\n",
       "      <td>\"You expect better from BA\"</td>\n",
       "      <td>BA cancelled the flight from Tokyo to LHR. ...</td>\n",
       "    </tr>\n",
       "    <tr>\n",
       "      <th>1</th>\n",
       "      <td>1</td>\n",
       "      <td>1</td>\n",
       "      <td>1</td>\n",
       "      <td>1</td>\n",
       "      <td>NaN</td>\n",
       "      <td>NaN</td>\n",
       "      <td>NaN</td>\n",
       "      <td>0</td>\n",
       "      <td>boeing747</td>\n",
       "      <td>“never fly British Airways\"</td>\n",
       "      <td>I strongly advise everyone to never fly Brit...</td>\n",
       "    </tr>\n",
       "    <tr>\n",
       "      <th>2</th>\n",
       "      <td>4</td>\n",
       "      <td>1</td>\n",
       "      <td>2</td>\n",
       "      <td>3</td>\n",
       "      <td>2</td>\n",
       "      <td>4</td>\n",
       "      <td>NaN</td>\n",
       "      <td>0</td>\n",
       "      <td>NaN</td>\n",
       "      <td>“we will rethink BA moving forward”</td>\n",
       "      <td>My partner and I were on the BA2166 return f...</td>\n",
       "    </tr>\n",
       "    <tr>\n",
       "      <th>3</th>\n",
       "      <td>1</td>\n",
       "      <td>1</td>\n",
       "      <td>1</td>\n",
       "      <td>1</td>\n",
       "      <td>1</td>\n",
       "      <td>1</td>\n",
       "      <td>1</td>\n",
       "      <td>0</td>\n",
       "      <td>NaN</td>\n",
       "      <td>“extremely poor customer service”</td>\n",
       "      <td>We had a Premium Economy return flight Los ...</td>\n",
       "    </tr>\n",
       "    <tr>\n",
       "      <th>4</th>\n",
       "      <td>5</td>\n",
       "      <td>5</td>\n",
       "      <td>3</td>\n",
       "      <td>4</td>\n",
       "      <td>1</td>\n",
       "      <td>NaN</td>\n",
       "      <td>NaN</td>\n",
       "      <td>1</td>\n",
       "      <td>a320</td>\n",
       "      <td>“a pleasant and civilized journey”</td>\n",
       "      <td>I should like to review my flight with Brit...</td>\n",
       "    </tr>\n",
       "  </tbody>\n",
       "</table>\n",
       "</div>"
      ],
      "text/plain": [
       "  seat_comfort ground_service value_for_money cabin_staff_service  \\\n",
       "0            1              1               2                 NaN   \n",
       "1            1              1               1                   1   \n",
       "2            4              1               2                   3   \n",
       "3            1              1               1                   1   \n",
       "4            5              5               3                   4   \n",
       "\n",
       "  food_and_beverages inflight_entertainment wifi_and_connectivity  \\\n",
       "0                NaN                    NaN                   NaN   \n",
       "1                NaN                    NaN                   NaN   \n",
       "2                  2                      4                   NaN   \n",
       "3                  1                      1                     1   \n",
       "4                  1                    NaN                   NaN   \n",
       "\n",
       "   recommended   aircraft                           reviewHead  \\\n",
       "0            0        NaN          \"You expect better from BA\"   \n",
       "1            0  boeing747          “never fly British Airways\"   \n",
       "2            0        NaN  “we will rethink BA moving forward”   \n",
       "3            0        NaN    “extremely poor customer service”   \n",
       "4            1       a320   “a pleasant and civilized journey”   \n",
       "\n",
       "                                          reviewBody  \n",
       "0     BA cancelled the flight from Tokyo to LHR. ...  \n",
       "1    I strongly advise everyone to never fly Brit...  \n",
       "2    My partner and I were on the BA2166 return f...  \n",
       "3     We had a Premium Economy return flight Los ...  \n",
       "4     I should like to review my flight with Brit...  "
      ]
     },
     "execution_count": 102,
     "metadata": {},
     "output_type": "execute_result"
    }
   ],
   "source": [
    "df.head()"
   ]
  },
  {
   "cell_type": "code",
   "execution_count": 9,
   "metadata": {},
   "outputs": [],
   "source": []
  },
  {
   "cell_type": "code",
   "execution_count": null,
   "metadata": {},
   "outputs": [],
   "source": []
  },
  {
   "cell_type": "code",
   "execution_count": 91,
   "metadata": {},
   "outputs": [
    {
     "data": {
      "text/plain": [
       "3808"
      ]
     },
     "execution_count": 91,
     "metadata": {},
     "output_type": "execute_result"
    }
   ],
   "source": []
  },
  {
   "cell_type": "code",
   "execution_count": 90,
   "metadata": {},
   "outputs": [
    {
     "data": {
      "text/plain": [
       "3808"
      ]
     },
     "execution_count": 90,
     "metadata": {},
     "output_type": "execute_result"
    }
   ],
   "source": []
  },
  {
   "cell_type": "code",
   "execution_count": 104,
   "metadata": {},
   "outputs": [
    {
     "data": {
      "text/plain": [
       "'   BA cancelled the flight from Tokyo to LHR. I was booked on next day flight. There was another flight on the same day. I went to the desk, but the flight was full. BA in charge offers another flight through Hong Kong which would have been 26h flight time. I declined that, and asked to stay on the next day flight. To my dismay he cancelled the next day flight without telling me he did that. I think he was annoyed that I didn’t accept the offer after he spent sometime looking for. In fact I am the one who should be annoyed for cancelling my flight. I ended up flying another airline with downgrading. Poor service, and appalling behaviour. You expect better from BA.'"
      ]
     },
     "execution_count": 104,
     "metadata": {},
     "output_type": "execute_result"
    }
   ],
   "source": [
    "reviewBody[0]"
   ]
  },
  {
   "cell_type": "code",
   "execution_count": null,
   "metadata": {},
   "outputs": [],
   "source": []
  }
 ],
 "metadata": {
  "kernelspec": {
   "display_name": "Python 3",
   "language": "python",
   "name": "python3"
  },
  "language_info": {
   "codemirror_mode": {
    "name": "ipython",
    "version": 3
   },
   "file_extension": ".py",
   "mimetype": "text/x-python",
   "name": "python",
   "nbconvert_exporter": "python",
   "pygments_lexer": "ipython3",
   "version": "3.11.3"
  }
 },
 "nbformat": 4,
 "nbformat_minor": 2
}
