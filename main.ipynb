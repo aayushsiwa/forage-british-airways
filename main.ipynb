{
 "cells": [
  {
   "cell_type": "code",
   "execution_count": 149,
   "metadata": {},
   "outputs": [],
   "source": [
    "from bs4 import BeautifulSoup\n",
    "import requests\n",
    "\n",
    "\n",
    "\n",
    "headers = {\n",
    "    \"User-Agent\": \"Mozilla/5.0 (Macintosh; Intel Mac OS X 10.15; rv:123.0) Gecko/20100101 Firefox/123.0\",\n",
    "    \"Accept\": \"text/html,application/xhtml+xml,application/xml;q=0.9,image/avif,image/webp,*/*;q=0.8\",\n",
    "    \"Accept-Language\": \"en-US,en;q=0.5\",\n",
    "    \"Referer\": \"https://https://www.airlinequality.com/airline-reviews/british-airways/\",\n",
    "    \"DNT\": \"1\",\n",
    "    \"Connection\": \"keep-alive\",\n",
    "    \"Upgrade-Insecure-Requests\": \"1\",\n",
    "}\n",
    "\n",
    "\n",
    "\n",
    "\n",
    "\n",
    "page=1\n",
    "\n",
    "reviews=[]\n",
    "\n",
    "# while page<5:\n",
    "#     response = requests.get(f'https://www.airlinequality.com/airline-reviews/british-airways/page/{page}/?sortby=post_date%3ADesc&pagesize=1000', headers=headers)\n",
    "#     print(response)\n",
    "#     soup = BeautifulSoup(response.text, \"html.parser\")\n",
    "#     articles=soup.find_all(\"article\",attrs={'itemprop': 'review'})\n",
    "#     for article in articles:\n",
    "#         reviews.append(article)\n",
    "#     page+=1\n",
    "\n",
    "\n",
    "response = requests.get(f'https://www.airlinequality.com/airline-reviews/british-airways/page/{page}/?sortby=post_date%3ADesc&pagesize=4000', headers=headers)\n",
    "soup = BeautifulSoup(response.text, \"html.parser\")\n",
    "articles=soup.find_all(\"article\",attrs={'itemprop': 'review'})\n",
    "reviews=articles\n"
   ]
  },
  {
   "cell_type": "code",
   "execution_count": 179,
   "metadata": {},
   "outputs": [
    {
     "name": "stdout",
     "output_type": "stream",
     "text": [
      "3807\n"
     ]
    }
   ],
   "source": [
    "# articles=soup.find_all(\"article\")\n",
    "# articles=articles[1:]\n",
    "print(len(reviews))\n",
    "\n",
    "# reviews"
   ]
  },
  {
   "cell_type": "code",
   "execution_count": 142,
   "metadata": {},
   "outputs": [
    {
     "data": {
      "text/plain": [
       "3802"
      ]
     },
     "execution_count": 142,
     "metadata": {},
     "output_type": "execute_result"
    }
   ],
   "source": [
    "integers = [\"0\", \"1\", \"2\", \"3\", \"4\", \"5\", \"6\", \"7\", \"8\", \"9\", \"10\"]\n",
    "ratings=[]\n",
    "maxRating=10\n",
    "for review in reviews:\n",
    "    divs=review.find_all(\"div\",attrs={'class':\"rating-10\"})\n",
    "    for div in divs:\n",
    "        span=div.find_all(\"span\",attrs={'itemprop':\"reviewRating\"})\n",
    "        r=div.text.split(\"/\")[0].replace(\"\\n\", \"\")\n",
    "        if r in integers:\n",
    "            rating=int(r)\n",
    "            ratings.append(rating)\n",
    "        else:\n",
    "            continue\n",
    "len(ratings)"
   ]
  },
  {
   "cell_type": "code",
   "execution_count": 154,
   "metadata": {},
   "outputs": [],
   "source": [
    "for review in reviews:\n",
    "    table=review.table"
   ]
  },
  {
   "cell_type": "code",
   "execution_count": 155,
   "metadata": {},
   "outputs": [
    {
     "data": {
      "text/plain": [
       "<table class=\"review-ratings\">\n",
       "<tr><td class=\"review-rating-header cabin_flown\">Seat Type</td><td class=\"review-value\">First Class</td></tr>\n",
       "<tr>\n",
       "<td class=\"review-rating-header seat_comfort\">Seat Comfort</td>\n",
       "<td class=\"review-rating-stars stars\"><span class=\"star fill\">1</span><span class=\"star fill\">2</span><span class=\"star fill\">3</span><span class=\"star fill\">4</span><span class=\"star\">5</span></td>\n",
       "</tr>\n",
       "<tr>\n",
       "<td class=\"review-rating-header cabin_staff_service\">Cabin Staff Service</td>\n",
       "<td class=\"review-rating-stars stars\"><span class=\"star fill\">1</span><span class=\"star fill\">2</span><span class=\"star fill\">3</span><span class=\"star fill\">4</span><span class=\"star fill\">5</span></td>\n",
       "</tr>\n",
       "<tr>\n",
       "<td class=\"review-rating-header food_and_beverages\">Food &amp; Beverages</td>\n",
       "<td class=\"review-rating-stars stars\"><span class=\"star fill\">1</span><span class=\"star fill\">2</span><span class=\"star fill\">3</span><span class=\"star fill\">4</span><span class=\"star fill\">5</span></td>\n",
       "</tr>\n",
       "<tr>\n",
       "<td class=\"review-rating-header inflight_entertainment\">Inflight Entertainment</td>\n",
       "<td class=\"review-rating-stars stars\"><span class=\"star fill\">1</span><span class=\"star fill\">2</span><span class=\"star\">3</span><span class=\"star\">4</span><span class=\"star\">5</span></td>\n",
       "</tr>\n",
       "<tr>\n",
       "<td class=\"review-rating-header value_for_money\">Value For Money</td>\n",
       "<td class=\"review-rating-stars stars\"><span class=\"star fill\">1</span><span class=\"star fill\">2</span><span class=\"star\">3</span><span class=\"star\">4</span><span class=\"star\">5</span></td>\n",
       "</tr>\n",
       "<tr><td class=\"review-rating-header recommended\">Recommended</td><td class=\"review-value rating-no\">no</td></tr> </table>"
      ]
     },
     "execution_count": 155,
     "metadata": {},
     "output_type": "execute_result"
    }
   ],
   "source": [
    "table"
   ]
  },
  {
   "cell_type": "code",
   "execution_count": 189,
   "metadata": {},
   "outputs": [],
   "source": [
    "seatComfort=[]\n",
    "for review in reviews:\n",
    "    table=review.table\n",
    "    td=table.find_all(\"td\",attrs={'class':\"seat_comfort\"})\n",
    "    if td:\n",
    "        # print(td)\n",
    "        for td in td:\n",
    "            next_sibling = td.find_next_sibling()\n",
    "            if next_sibling:\n",
    "                filled_stars = next_sibling.find_all('span', class_='star fill')\n",
    "                if filled_stars:\n",
    "                    last_filled_star = filled_stars[-1].get_text(strip=True)\n",
    "                    # print(last_filled_star)\n",
    "                    seatComfort.append(int(last_filled_star))\n",
    "    else:\n",
    "        last_filled_star=0\n",
    "        seatComfort.append(last_filled_star)"
   ]
  },
  {
   "cell_type": "code",
   "execution_count": 193,
   "metadata": {},
   "outputs": [],
   "source": [
    "groundService=[]\n",
    "for review in reviews:\n",
    "    table=review.table\n",
    "    td=table.find_all(\"td\",attrs={'class':\"ground_service\"})\n",
    "    if td:\n",
    "        # print(td)\n",
    "        for td in td:\n",
    "            next_sibling = td.find_next_sibling()\n",
    "            if next_sibling:\n",
    "                filled_stars = next_sibling.find_all('span', class_='star fill')\n",
    "                if filled_stars:\n",
    "                    last_filled_star = filled_stars[-1].get_text(strip=True)\n",
    "                    # print(last_filled_star)\n",
    "                    groundService.append(int(last_filled_star))\n",
    "    else:\n",
    "        last_filled_star=0\n",
    "        groundService.append(last_filled_star)\n",
    "\n",
    "# groundService"
   ]
  },
  {
   "cell_type": "code",
   "execution_count": 194,
   "metadata": {},
   "outputs": [],
   "source": [
    "valueForMoney=[]\n",
    "for review in reviews:\n",
    "    table=review.table\n",
    "    td=table.find_all(\"td\",attrs={'class':\"value_for_money\"})\n",
    "    if td:\n",
    "        # print(td)\n",
    "        for td in td:\n",
    "            next_sibling = td.find_next_sibling()\n",
    "            if next_sibling:\n",
    "                filled_stars = next_sibling.find_all('span', class_='star fill')\n",
    "                if filled_stars:\n",
    "                    last_filled_star = filled_stars[-1].get_text(strip=True)\n",
    "                    # print(last_filled_star)\n",
    "                    valueForMoney.append(int(last_filled_star))\n",
    "    else:\n",
    "        last_filled_star=0\n",
    "        valueForMoney.append(last_filled_star)"
   ]
  },
  {
   "cell_type": "code",
   "execution_count": 196,
   "metadata": {},
   "outputs": [],
   "source": [
    "cabinStaffService=[]\n",
    "for review in reviews:\n",
    "    table=review.table\n",
    "    td=table.find_all(\"td\",attrs={'class':\"cabin_staff_service\"})\n",
    "    if td:\n",
    "        # print(td)\n",
    "        for td in td:\n",
    "            next_sibling = td.find_next_sibling()\n",
    "            if next_sibling:\n",
    "                filled_stars = next_sibling.find_all('span', class_='star fill')\n",
    "                if filled_stars:\n",
    "                    last_filled_star = filled_stars[-1].get_text(strip=True)\n",
    "                    # print(last_filled_star)\n",
    "                    cabinStaffService.append(int(last_filled_star))\n",
    "    else:\n",
    "        last_filled_star=0\n",
    "        cabinStaffService.append(last_filled_star)"
   ]
  },
  {
   "cell_type": "code",
   "execution_count": 200,
   "metadata": {},
   "outputs": [],
   "source": [
    "foodAndBeverages=[]\n",
    "for review in reviews:\n",
    "    table=review.table\n",
    "    td=table.find_all(\"td\",attrs={'class':\"food_and_beverages\"})\n",
    "    if td:\n",
    "        # print(td)\n",
    "        for td in td:\n",
    "            next_sibling = td.find_next_sibling()\n",
    "            if next_sibling:\n",
    "                filled_stars = next_sibling.find_all('span', class_='star fill')\n",
    "                if filled_stars:\n",
    "                    last_filled_star = filled_stars[-1].get_text(strip=True)\n",
    "                    # print(last_filled_star)\n",
    "                    foodAndBeverages.append(int(last_filled_star))\n",
    "    else:\n",
    "        last_filled_star=0\n",
    "        foodAndBeverages.append(last_filled_star)"
   ]
  },
  {
   "cell_type": "code",
   "execution_count": 203,
   "metadata": {},
   "outputs": [],
   "source": [
    "inflightEntertainment=[]\n",
    "for review in reviews:\n",
    "    table=review.table\n",
    "    td=table.find_all(\"td\",attrs={'class':\"inflight_entertainment\"})\n",
    "    if td:\n",
    "        # print(td)\n",
    "        for td in td:\n",
    "            next_sibling = td.find_next_sibling()\n",
    "            if next_sibling:\n",
    "                filled_stars = next_sibling.find_all('span', class_='star fill')\n",
    "                if filled_stars:\n",
    "                    last_filled_star = filled_stars[-1].get_text(strip=True)\n",
    "                    # print(last_filled_star)\n",
    "                    inflightEntertainment.append(int(last_filled_star))\n",
    "    else:\n",
    "        last_filled_star=0\n",
    "        inflightEntertainment.append(last_filled_star)"
   ]
  },
  {
   "cell_type": "code",
   "execution_count": 207,
   "metadata": {},
   "outputs": [],
   "source": [
    "wifiAndConnectivity = []\n",
    "for review in reviews:\n",
    "    table = review.table\n",
    "    td = table.find_all(\"td\", attrs={\"class\": \"wifi_and_connectivity\"})\n",
    "    if td:\n",
    "        # print(td)\n",
    "        for td in td:\n",
    "            next_sibling = td.find_next_sibling()\n",
    "            if next_sibling:\n",
    "                filled_stars = next_sibling.find_all(\"span\", class_=\"star fill\")\n",
    "                if filled_stars:\n",
    "                    last_filled_star = filled_stars[-1].get_text(strip=True)\n",
    "                    # print(last_filled_star)\n",
    "                    wifiAndConnectivity.append(int(last_filled_star))\n",
    "    else:\n",
    "        last_filled_star = 0\n",
    "        wifiAndConnectivity.append(last_filled_star)"
   ]
  },
  {
   "cell_type": "code",
   "execution_count": 221,
   "metadata": {},
   "outputs": [],
   "source": [
    "recommended=[]\n",
    "for review in reviews:\n",
    "    table = review.table\n",
    "    td = table.find_all(\"td\", attrs={\"class\": \"recommended\"})\n",
    "    if td:\n",
    "        for td in td:\n",
    "            next_sibling = td.find_next_sibling()\n",
    "            if next_sibling:\n",
    "                reviewValue = next_sibling.text\n",
    "                if reviewValue:\n",
    "                    if reviewValue==\"no\":\n",
    "                        recommended.append(0)\n",
    "                    else:\n",
    "                        recommended.append(1)"
   ]
  },
  {
   "cell_type": "code",
   "execution_count": null,
   "metadata": {},
   "outputs": [],
   "source": []
  },
  {
   "cell_type": "code",
   "execution_count": null,
   "metadata": {},
   "outputs": [],
   "source": []
  },
  {
   "cell_type": "code",
   "execution_count": null,
   "metadata": {},
   "outputs": [],
   "source": []
  },
  {
   "cell_type": "code",
   "execution_count": null,
   "metadata": {},
   "outputs": [],
   "source": []
  }
 ],
 "metadata": {
  "kernelspec": {
   "display_name": "Python 3",
   "language": "python",
   "name": "python3"
  },
  "language_info": {
   "codemirror_mode": {
    "name": "ipython",
    "version": 3
   },
   "file_extension": ".py",
   "mimetype": "text/x-python",
   "name": "python",
   "nbconvert_exporter": "python",
   "pygments_lexer": "ipython3",
   "version": "3.11.3"
  }
 },
 "nbformat": 4,
 "nbformat_minor": 2
}
