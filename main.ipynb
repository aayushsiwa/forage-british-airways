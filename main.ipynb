{
 "cells": [
  {
   "cell_type": "code",
   "execution_count": 223,
   "metadata": {},
   "outputs": [],
   "source": [
    "import requests\n",
    "from bs4 import BeautifulSoup\n",
    "\n",
    "# Headers for the HTTP request\n",
    "headers = {\n",
    "    \"User-Agent\": \"Mozilla/5.0 (Macintosh; Intel Mac OS X 10.15; rv:123.0) Gecko/20100101 Firefox/123.0\",\n",
    "    \"Accept\": \"text/html,application/xhtml+xml,application/xml;q=0.9,image/avif,image/webp,*/*;q=0.8\",\n",
    "    \"Accept-Language\": \"en-US,en;q=0.5\",\n",
    "    \"Referer\": \"https://www.airlinequality.com/airline-reviews/british-airways/\",\n",
    "    \"DNT\": \"1\",\n",
    "    \"Connection\": \"keep-alive\",\n",
    "    \"Upgrade-Insecure-Requests\": \"1\",\n",
    "}\n",
    "\n",
    "# URL and page settings\n",
    "url = 'https://www.airlinequality.com/airline-reviews/british-airways/page/{}/?sortby=post_date%3ADesc&pagesize=4000'\n",
    "page = 1\n",
    "\n",
    "# Fetch the webpage content\n",
    "response = requests.get(url.format(page), headers=headers)\n",
    "soup = BeautifulSoup(response.text, \"html.parser\")\n",
    "reviews = soup.find_all(\"article\", attrs={'itemprop': 'review'})"
   ]
  },
  {
   "cell_type": "code",
   "execution_count": 236,
   "metadata": {},
   "outputs": [],
   "source": [
    "# Helper function to extract star ratings\n",
    "def extract_ratings(review, class_name):\n",
    "    ratings = []\n",
    "    table = review.table\n",
    "    if table:\n",
    "        td_elements = table.find_all(\"td\", class_=class_name)\n",
    "        if td_elements:\n",
    "            for td in td_elements:\n",
    "                next_sibling = td.find_next_sibling()\n",
    "                if next_sibling:\n",
    "                    filled_stars = next_sibling.find_all('span', class_='star fill')\n",
    "                    if filled_stars:\n",
    "                        last_filled_star = filled_stars[-1].get_text(strip=True)\n",
    "                        ratings.append(int(last_filled_star))\n",
    "                    else:\n",
    "                        ratings.append(0)\n",
    "                else:\n",
    "                    ratings.append(0)\n",
    "        else:\n",
    "            ratings.append(0)\n",
    "    else:\n",
    "        ratings.append(0)\n",
    "    return ratings"
   ]
  },
  {
   "cell_type": "code",
   "execution_count": 237,
   "metadata": {},
   "outputs": [],
   "source": [
    "# Define the review categories\n",
    "categories = [\n",
    "    \"seat_comfort\",\n",
    "    \"ground_service\",\n",
    "    \"value_for_money\",\n",
    "    \"cabin_staff_service\",\n",
    "    \"food_and_beverages\",\n",
    "    \"inflight_entertainment\",\n",
    "    \"wifi_and_connectivity\",\n",
    "    \"recommended\"\n",
    "]\n",
    "\n",
    "ratings_dict = {category: [] for category in categories}"
   ]
  },
  {
   "cell_type": "code",
   "execution_count": 238,
   "metadata": {},
   "outputs": [],
   "source": [
    "# Extract ratings for each category\n",
    "for review in reviews:\n",
    "    for category in categories:\n",
    "        ratings = extract_ratings(review, category)\n",
    "        ratings_dict[category].extend(ratings)"
   ]
  },
  {
   "cell_type": "code",
   "execution_count": 239,
   "metadata": {},
   "outputs": [],
   "source": [
    "# Process 'recommended' category separately as it does not follow the star rating pattern\n",
    "recommended = []\n",
    "for review in reviews:\n",
    "    table = review.table\n",
    "    if table:\n",
    "        td_elements = table.find_all(\"td\", class_=\"recommended\")\n",
    "        for td in td_elements:\n",
    "            next_sibling = td.find_next_sibling()\n",
    "            if next_sibling:\n",
    "                review_value = next_sibling.get_text(strip=True).lower()\n",
    "                if review_value == \"no\":\n",
    "                    recommended.append(0)\n",
    "                else:\n",
    "                    recommended.append(1)\n",
    "    else:\n",
    "        recommended.append(0)\n",
    "ratings_dict[\"recommended\"] = recommended"
   ]
  },
  {
   "cell_type": "code",
   "execution_count": 241,
   "metadata": {},
   "outputs": [
    {
     "name": "stdout",
     "output_type": "stream",
     "text": [
      "seat_comfort: 3807\n",
      "ground_service: 3807\n",
      "value_for_money: 3807\n",
      "cabin_staff_service: 3807\n",
      "food_and_beverages: 3807\n",
      "inflight_entertainment: 3807\n",
      "wifi_and_connectivity: 3807\n",
      "recommended: 3807\n"
     ]
    }
   ],
   "source": [
    "# Print the collected ratings\n",
    "for category, ratings in ratings_dict.items():\n",
    "    print(f'{category}: {len(ratings)}')"
   ]
  },
  {
   "cell_type": "code",
   "execution_count": null,
   "metadata": {},
   "outputs": [],
   "source": []
  }
 ],
 "metadata": {
  "kernelspec": {
   "display_name": "Python 3",
   "language": "python",
   "name": "python3"
  },
  "language_info": {
   "codemirror_mode": {
    "name": "ipython",
    "version": 3
   },
   "file_extension": ".py",
   "mimetype": "text/x-python",
   "name": "python",
   "nbconvert_exporter": "python",
   "pygments_lexer": "ipython3",
   "version": "3.11.3"
  }
 },
 "nbformat": 4,
 "nbformat_minor": 2
}
